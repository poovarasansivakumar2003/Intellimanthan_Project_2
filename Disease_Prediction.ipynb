{
  "cells": [
    {
      "cell_type": "markdown",
      "metadata": {
        "id": "view-in-github",
        "colab_type": "text"
      },
      "source": [
        "<a href=\"https://colab.research.google.com/github/poovarasansivakumar2003/Intellimanthan_Project_2/blob/main/Disease_Prediction.ipynb\" target=\"_parent\"><img src=\"https://colab.research.google.com/assets/colab-badge.svg\" alt=\"Open In Colab\"/></a>"
      ]
    },
    {
      "cell_type": "code",
      "source": [
        "import pandas as pd\n",
        "import numpy as np\n",
        "import matplotlib.pyplot as plt\n",
        "import seaborn as sns\n",
        "from sklearn.model_selection import train_test_split, StratifiedKFold, cross_val_score, learning_curve\n",
        "from sklearn.ensemble import RandomForestClassifier\n",
        "from sklearn.metrics import classification_report, accuracy_score, confusion_matrix\n",
        "from sklearn.pipeline import Pipeline\n",
        "from sklearn.preprocessing import StandardScaler\n",
        "from sklearn.feature_selection import SelectFromModel, RFECV\n",
        "from sklearn.decomposition import PCA\n",
        "from sklearn.tree import DecisionTreeClassifier\n",
        "from sklearn.linear_model import LogisticRegression\n",
        "from sklearn.svm import SVC\n",
        "import joblib\n",
        "import warnings\n",
        "warnings.filterwarnings('ignore')"
      ],
      "metadata": {
        "id": "DIaYLR5ZvC8v"
      },
      "execution_count": null,
      "outputs": []
    },
    {
      "cell_type": "code",
      "source": [
        "df = pd.read_csv('dataset.csv')"
      ],
      "metadata": {
        "id": "MF2GkbD0vD8S"
      },
      "execution_count": null,
      "outputs": []
    },
    {
      "cell_type": "code",
      "source": [
        "X = df.drop(['prognosis', 'risk_level'], axis=1)\n",
        "y_disease = df['prognosis']\n",
        "y_risk = df['risk_level']"
      ],
      "metadata": {
        "id": "FrD3_R13vGpE"
      },
      "execution_count": null,
      "outputs": []
    },
    {
      "cell_type": "code",
      "source": [
        "def augment_data(X, y_disease, y_risk, noise_level=0.05, n_samples=500):\n",
        "\n",
        "    indices = np.random.choice(len(X), size=n_samples, replace=True)\n",
        "    X_subset = X.iloc[indices].copy()\n",
        "    y_disease_subset = y_disease.iloc[indices].copy()\n",
        "    y_risk_subset = y_risk.iloc[indices].copy()\n",
        "\n",
        "    for col in X_subset.columns:\n",
        "        mask = np.random.random(len(X_subset)) < noise_level\n",
        "        X_subset.loc[mask, col] = 1 - X_subset.loc[mask, col]\n",
        "\n",
        "    X_augmented = pd.concat([X, X_subset])\n",
        "    y_disease_augmented = pd.concat([y_disease, y_disease_subset])\n",
        "    y_risk_augmented = pd.concat([y_risk, y_risk_subset])\n",
        "\n",
        "    return X_augmented, y_disease_augmented, y_risk_augmented\n",
        "\n",
        "X_aug, y_disease_aug, y_risk_aug = augment_data(X, y_disease, y_risk, noise_level=0.1, n_samples=int(len(X)*0.3))\n",
        "print(f\"Original data size: {len(X)}, Augmented data size: {len(X_aug)}\")"
      ],
      "metadata": {
        "colab": {
          "base_uri": "https://localhost:8080/"
        },
        "id": "2fz_RIeH26PB",
        "outputId": "8f2bb2e5-345b-4983-973e-ebd917c437e2"
      },
      "execution_count": null,
      "outputs": [
        {
          "output_type": "stream",
          "name": "stdout",
          "text": [
            "Original data size: 4920, Augmented data size: 6396\n"
          ]
        }
      ]
    },
    {
      "cell_type": "code",
      "source": [
        "X_train, X_test, y_disease_train, y_disease_test, y_risk_train, y_risk_test = train_test_split(\n",
        "    X_aug, y_disease_aug, y_risk_aug,\n",
        "    test_size=0.3,\n",
        "    random_state=42,\n",
        "    stratify=y_disease_aug\n",
        ")\n",
        "\n",
        "print(f\"Training set size: {len(X_train)}, Test set size: {len(X_test)}\")"
      ],
      "metadata": {
        "colab": {
          "base_uri": "https://localhost:8080/"
        },
        "id": "oYcmKanQvKP2",
        "outputId": "5078c74a-ce2a-4274-9c11-3a14d71e5574"
      },
      "execution_count": null,
      "outputs": [
        {
          "output_type": "stream",
          "name": "stdout",
          "text": [
            "Training set size: 4477, Test set size: 1919\n"
          ]
        }
      ]
    },
    {
      "cell_type": "code",
      "source": [
        "rf_base = RandomForestClassifier(n_estimators=50, random_state=42)\n",
        "feature_selector_disease = RFECV(\n",
        "    estimator=rf_base,\n",
        "    step=5,\n",
        "    cv=StratifiedKFold(5, shuffle=True, random_state=42),\n",
        "    scoring='accuracy',\n",
        "    min_features_to_select=20\n",
        ")\n",
        "\n",
        "feature_selector_disease.fit(X_train, y_disease_train)\n",
        "X_train_disease_selected = feature_selector_disease.transform(X_train)\n",
        "X_test_disease_selected = feature_selector_disease.transform(X_test)\n",
        "\n",
        "feature_selector_risk = RFECV(\n",
        "    estimator=rf_base,\n",
        "    step=5,\n",
        "    cv=StratifiedKFold(5, shuffle=True, random_state=42),\n",
        "    scoring='accuracy',\n",
        "    min_features_to_select=20\n",
        ")\n",
        "\n",
        "feature_selector_risk.fit(X_train, y_risk_train)\n",
        "X_train_risk_selected = feature_selector_risk.transform(X_train)\n",
        "X_test_risk_selected = feature_selector_risk.transform(X_test)\n",
        "\n",
        "selected_features_disease = X.columns[feature_selector_disease.support_]\n",
        "selected_features_risk = X.columns[feature_selector_risk.support_]\n",
        "\n",
        "print(f\"Selected {len(selected_features_disease)} features for disease prediction\")\n",
        "print(f\"Selected {len(selected_features_risk)} features for risk prediction\")"
      ],
      "metadata": {
        "colab": {
          "base_uri": "https://localhost:8080/"
        },
        "id": "HWaqdljcvNiI",
        "outputId": "4f22a663-1adb-443b-d3a9-a979c9d1c79c"
      },
      "execution_count": null,
      "outputs": [
        {
          "output_type": "stream",
          "name": "stdout",
          "text": [
            "Selected 122 features for disease prediction\n",
            "Selected 112 features for risk prediction\n"
          ]
        }
      ]
    },
    {
      "cell_type": "code",
      "source": [
        "# Disease prediction models\n",
        "models_disease = {\n",
        "    'logistic_regression': LogisticRegression(max_iter=1000, C=0.1, solver='saga', random_state=42),\n",
        "    'decision_tree': DecisionTreeClassifier(max_depth=10, min_samples_split=5, random_state=42),\n",
        "    'random_forest': RandomForestClassifier(\n",
        "        n_estimators=100,\n",
        "        max_depth=15,\n",
        "        min_samples_split=5,\n",
        "        min_samples_leaf=2,\n",
        "        max_features='sqrt',\n",
        "        bootstrap=True,\n",
        "        oob_score=True,\n",
        "        random_state=42\n",
        "    ),\n",
        "    'svm': SVC(kernel='rbf', C=1.0, probability=True, random_state=42)\n",
        "}\n",
        "\n",
        "# Risk prediction models\n",
        "models_risk = {\n",
        "    'logistic_regression': LogisticRegression(max_iter=1000, C=0.1, solver='saga', random_state=42),\n",
        "    'decision_tree': DecisionTreeClassifier(max_depth=8, min_samples_split=5, random_state=42),\n",
        "    'random_forest': RandomForestClassifier(\n",
        "        n_estimators=100,\n",
        "        max_depth=10,\n",
        "        min_samples_split=5,\n",
        "        min_samples_leaf=2,\n",
        "        max_features='sqrt',\n",
        "        bootstrap=True,\n",
        "        oob_score=True,\n",
        "        class_weight='balanced',\n",
        "        random_state=42\n",
        "    ),\n",
        "    'svm': SVC(kernel='rbf', C=1.0, probability=True, random_state=42)\n",
        "}\n",
        "\n",
        "disease_trained_models = {}\n",
        "disease_cv_scores = {}\n",
        "\n",
        "for name, model in models_disease.items():\n",
        "    print(f\"Training {name} for disease prediction...\")\n",
        "    cv_scores = cross_val_score(model, X_train_disease_selected, y_disease_train, cv=5, scoring='accuracy')\n",
        "    disease_cv_scores[name] = cv_scores\n",
        "\n",
        "    model.fit(X_train_disease_selected, y_disease_train)\n",
        "    disease_trained_models[name] = model\n",
        "\n",
        "    y_pred = model.predict(X_test_disease_selected)\n",
        "    accuracy = accuracy_score(y_disease_test, y_pred)\n",
        "    print(f\"{name} - CV Accuracy: {cv_scores.mean():.4f} (±{cv_scores.std():.4f}), Test Accuracy: {accuracy:.4f}\")\n",
        "\n",
        "risk_trained_models = {}\n",
        "risk_cv_scores = {}\n",
        "\n",
        "for name, model in models_risk.items():\n",
        "    print(f\"Training {name} for risk prediction...\")\n",
        "    cv_scores = cross_val_score(model, X_train_risk_selected, y_risk_train, cv=5, scoring='accuracy')\n",
        "    risk_cv_scores[name] = cv_scores\n",
        "\n",
        "    model.fit(X_train_risk_selected, y_risk_train)\n",
        "    risk_trained_models[name] = model\n",
        "\n",
        "    y_pred = model.predict(X_test_risk_selected)\n",
        "    accuracy = accuracy_score(y_risk_test, y_pred)\n",
        "    print(f\"{name} - CV Accuracy: {cv_scores.mean():.4f} (±{cv_scores.std():.4f}), Test Accuracy: {accuracy:.4f}\")\n"
      ],
      "metadata": {
        "colab": {
          "base_uri": "https://localhost:8080/"
        },
        "id": "QXDUZbVDvQi0",
        "outputId": "d92f90bb-aeb1-4fa6-f179-7530a10b9d88"
      },
      "execution_count": null,
      "outputs": [
        {
          "output_type": "stream",
          "name": "stdout",
          "text": [
            "Training logistic_regression for disease prediction...\n",
            "logistic_regression - CV Accuracy: 0.9895 (±0.0015), Test Accuracy: 0.9896\n",
            "Training decision_tree for disease prediction...\n",
            "decision_tree - CV Accuracy: 0.7087 (±0.0300), Test Accuracy: 0.7217\n",
            "Training random_forest for disease prediction...\n",
            "random_forest - CV Accuracy: 0.9835 (±0.0013), Test Accuracy: 0.9786\n",
            "Training svm for disease prediction...\n",
            "svm - CV Accuracy: 0.9777 (±0.0030), Test Accuracy: 0.9760\n",
            "Training logistic_regression for risk prediction...\n",
            "logistic_regression - CV Accuracy: 0.9623 (±0.0037), Test Accuracy: 0.9594\n",
            "Training decision_tree for risk prediction...\n",
            "decision_tree - CV Accuracy: 0.8863 (±0.0163), Test Accuracy: 0.8801\n",
            "Training random_forest for risk prediction...\n",
            "random_forest - CV Accuracy: 0.9681 (±0.0037), Test Accuracy: 0.9583\n",
            "Training svm for risk prediction...\n",
            "svm - CV Accuracy: 0.9750 (±0.0038), Test Accuracy: 0.9745\n"
          ]
        }
      ]
    },
    {
      "cell_type": "code",
      "source": [
        "def predict_ensemble(models, feature_selector, X_input):\n",
        "\n",
        "    X_selected = feature_selector.transform(X_input)\n",
        "    predictions = {}\n",
        "    probabilities = {}\n",
        "\n",
        "    for name, model in models.items():\n",
        "        if hasattr(model, 'predict_proba'):\n",
        "            probs = model.predict_proba(X_selected)\n",
        "            pred = model.predict(X_selected)\n",
        "        else:\n",
        "            pred = model.predict(X_selected)\n",
        "            probs = None\n",
        "\n",
        "        predictions[name] = pred\n",
        "        probabilities[name] = probs\n",
        "\n",
        "    predictions_df = pd.DataFrame(predictions)\n",
        "\n",
        "    final_predictions = predictions_df.mode(axis=1)[0]\n",
        "\n",
        "    return final_predictions, probabilities"
      ],
      "metadata": {
        "id": "WO5Khme7vagF"
      },
      "execution_count": null,
      "outputs": []
    },
    {
      "cell_type": "code",
      "source": [
        "# EVALUATE ENSEMBLE MODELS\n",
        "\n",
        "disease_ensemble_preds, _ = predict_ensemble(disease_trained_models, feature_selector_disease, X_test)\n",
        "disease_ensemble_accuracy = accuracy_score(y_disease_test, disease_ensemble_preds)\n",
        "print(f\"Disease Ensemble Accuracy: {disease_ensemble_accuracy:.4f}\")\n",
        "print(\"Disease Ensemble Classification Report:\")\n",
        "print(classification_report(y_disease_test, disease_ensemble_preds))\n",
        "\n",
        "risk_ensemble_preds, _ = predict_ensemble(risk_trained_models, feature_selector_risk, X_test)\n",
        "risk_ensemble_accuracy = accuracy_score(y_risk_test, risk_ensemble_preds)\n",
        "print(f\"Risk Ensemble Accuracy: {risk_ensemble_accuracy:.4f}\")\n",
        "print(\"Risk Ensemble Classification Report:\")\n",
        "print(classification_report(y_risk_test, risk_ensemble_preds))\n",
        "print(\"Risk Ensemble Confusion Matrix:\")\n",
        "print(confusion_matrix(y_risk_test, risk_ensemble_preds))"
      ],
      "metadata": {
        "colab": {
          "base_uri": "https://localhost:8080/"
        },
        "id": "9fTWb3MsvdY-",
        "outputId": "a65832c4-b1ab-4a5a-dcbb-d0cd8c58ae2e"
      },
      "execution_count": null,
      "outputs": [
        {
          "output_type": "stream",
          "name": "stdout",
          "text": [
            "Disease Ensemble Accuracy: 0.9859\n",
            "Disease Ensemble Classification Report:\n",
            "                                         precision    recall  f1-score   support\n",
            "\n",
            "(vertigo) Paroymsal  Positional Vertigo       0.94      1.00      0.97        46\n",
            "                                   AIDS       0.96      0.98      0.97        49\n",
            "                                   Acne       0.96      0.98      0.97        48\n",
            "                    Alcoholic hepatitis       0.98      1.00      0.99        47\n",
            "                                Allergy       0.98      0.98      0.98        47\n",
            "                              Arthritis       1.00      0.96      0.98        46\n",
            "                       Bronchial Asthma       0.98      0.98      0.98        45\n",
            "                   Cervical spondylosis       0.96      1.00      0.98        49\n",
            "                            Chicken pox       1.00      1.00      1.00        48\n",
            "                    Chronic cholestasis       0.96      0.98      0.97        48\n",
            "                            Common Cold       1.00      1.00      1.00        44\n",
            "                                 Dengue       1.00      0.98      0.99        44\n",
            "                              Diabetes        1.00      1.00      1.00        46\n",
            "           Dimorphic hemmorhoids(piles)       1.00      0.96      0.98        47\n",
            "                          Drug Reaction       1.00      0.98      0.99        44\n",
            "                       Fungal infection       1.00      0.93      0.97        45\n",
            "                                   GERD       0.98      0.96      0.97        48\n",
            "                        Gastroenteritis       0.98      1.00      0.99        46\n",
            "                           Heart attack       0.98      0.91      0.95        47\n",
            "                            Hepatitis B       1.00      1.00      1.00        46\n",
            "                            Hepatitis C       0.98      1.00      0.99        44\n",
            "                            Hepatitis D       0.98      1.00      0.99        46\n",
            "                            Hepatitis E       1.00      1.00      1.00        49\n",
            "                          Hypertension        0.98      1.00      0.99        50\n",
            "                        Hyperthyroidism       1.00      1.00      1.00        44\n",
            "                           Hypoglycemia       1.00      1.00      1.00        47\n",
            "                         Hypothyroidism       1.00      1.00      1.00        50\n",
            "                               Impetigo       1.00      0.98      0.99        45\n",
            "                               Jaundice       1.00      1.00      1.00        46\n",
            "                                Malaria       0.98      1.00      0.99        50\n",
            "                               Migraine       1.00      1.00      1.00        47\n",
            "                        Osteoarthristis       0.94      1.00      0.97        47\n",
            "           Paralysis (brain hemorrhage)       1.00      0.98      0.99        48\n",
            "                    Peptic ulcer diseae       0.98      0.98      0.98        47\n",
            "                              Pneumonia       1.00      1.00      1.00        46\n",
            "                              Psoriasis       0.96      1.00      0.98        48\n",
            "                           Tuberculosis       1.00      1.00      1.00        48\n",
            "                                Typhoid       1.00      1.00      1.00        47\n",
            "                Urinary tract infection       1.00      0.94      0.97        48\n",
            "                         Varicose veins       1.00      1.00      1.00        46\n",
            "                            hepatitis A       1.00      0.98      0.99        46\n",
            "\n",
            "                               accuracy                           0.99      1919\n",
            "                              macro avg       0.99      0.99      0.99      1919\n",
            "                           weighted avg       0.99      0.99      0.99      1919\n",
            "\n",
            "Risk Ensemble Accuracy: 0.9693\n",
            "Risk Ensemble Classification Report:\n",
            "              precision    recall  f1-score   support\n",
            "\n",
            "           0       0.98      0.95      0.97       323\n",
            "           1       0.95      0.98      0.97       659\n",
            "           2       0.98      0.97      0.97       937\n",
            "\n",
            "    accuracy                           0.97      1919\n",
            "   macro avg       0.97      0.97      0.97      1919\n",
            "weighted avg       0.97      0.97      0.97      1919\n",
            "\n",
            "Risk Ensemble Confusion Matrix:\n",
            "[[308   5  10]\n",
            " [  3 645  11]\n",
            " [  4  26 907]]\n"
          ]
        }
      ]
    },
    {
      "cell_type": "code",
      "source": [
        "def predict_and_recommend(symptoms, X, disease_models, risk_models, feature_selector_disease, feature_selector_risk, med_test_df):\n",
        "    input_df = pd.DataFrame(0, index=[0], columns=X.columns)\n",
        "    for symptom in symptoms:\n",
        "        if symptom in input_df.columns:\n",
        "            input_df[symptom] = 1\n",
        "\n",
        "    predicted_disease, _ = predict_ensemble(disease_models, feature_selector_disease, input_df)\n",
        "    predicted_risk, _ = predict_ensemble(risk_models, feature_selector_risk, input_df)\n",
        "\n",
        "    recommendations = get_recommendations(predicted_disease.iloc[0], predicted_risk.iloc[0])\n",
        "\n",
        "    result = {\n",
        "        'predicted_disease': predicted_disease.iloc[0],\n",
        "        'predicted_risk_level': int(predicted_risk.iloc[0]),\n",
        "        'recommendations': recommendations\n",
        "    }\n",
        "\n",
        "    return result\n",
        "\n",
        "joblib.dump(disease_trained_models, 'disease_models.pkl')\n",
        "joblib.dump(risk_trained_models, 'risk_models.pkl')\n",
        "joblib.dump(feature_selector_disease, 'disease_feature_selector.pkl')\n",
        "joblib.dump(feature_selector_risk, 'risk_feature_selector.pkl')\n"
      ],
      "metadata": {
        "id": "40jR904PvmBv",
        "colab": {
          "base_uri": "https://localhost:8080/"
        },
        "outputId": "e0516c72-4d3b-4dfc-b156-c3714b61d5f8"
      },
      "execution_count": null,
      "outputs": [
        {
          "output_type": "execute_result",
          "data": {
            "text/plain": [
              "['risk_feature_selector.pkl']"
            ]
          },
          "metadata": {},
          "execution_count": 10
        }
      ]
    },
    {
      "cell_type": "code",
      "source": [
        "# FINAL PREDICTION AND RECOMMENDATION SYSTEM\n",
        "med_test_df = pd.read_csv('medications and test recommended.csv')\n",
        "\n",
        "def get_recommendations(disease, risk_level):\n",
        "    try:\n",
        "        disease = disease.strip().lower()\n",
        "        med_test_df['prognosis'] = med_test_df['prognosis'].str.strip().str.lower()\n",
        "\n",
        "        match = med_test_df[med_test_df['prognosis'] == disease]\n",
        "        if match.empty:\n",
        "            return {\"error\": f\"No data found for disease '{disease}'\"}\n",
        "\n",
        "        disease_info = match.iloc[0]\n",
        "\n",
        "        medications = eval(disease_info['Medication']) if isinstance(disease_info['Medication'], str) else disease_info['Medication']\n",
        "        tests = eval(disease_info['Recommended Tests']) if isinstance(disease_info['Recommended Tests'], str) else disease_info['Recommended Tests']\n",
        "\n",
        "        recommendations = {}\n",
        "\n",
        "        if risk_level == 0:\n",
        "            recommendations['medications'] = medications\n",
        "            recommendations['tests'] = []\n",
        "            recommendations['message'] = \"Negligible severity. Only medication required.\"\n",
        "\n",
        "        elif risk_level == 1:\n",
        "            recommendations['medications'] = medications\n",
        "            recommendations['tests'] = tests\n",
        "            recommendations['message'] = \"Medium severity. Both medication and tests recommended.\"\n",
        "\n",
        "        elif risk_level == 2:\n",
        "            recommendations['medications'] = []\n",
        "            recommendations['tests'] = tests\n",
        "            recommendations['message'] = \"HIGH SEVERITY! No medication provided. Tests recommended and DOCTOR CONSULTATION IS REQUIRED.\"\n",
        "\n",
        "        return recommendations\n",
        "\n",
        "    except Exception as e:\n",
        "        return {\"error\": f\"Could not get recommendations: {str(e)}\"}\n"
      ],
      "metadata": {
        "id": "yduS8wpxfO3J"
      },
      "execution_count": null,
      "outputs": []
    },
    {
      "cell_type": "code",
      "source": [
        "example_symptoms = ['itching', 'skin_rash', 'nodal_skin_eruptions']\n",
        "prediction = predict_and_recommend(\n",
        "    example_symptoms, X,\n",
        "    disease_trained_models, risk_trained_models,\n",
        "    feature_selector_disease, feature_selector_risk,\n",
        "    med_test_df\n",
        ")\n",
        "\n",
        "print(f\"Symptoms: {example_symptoms}\")\n",
        "print(f\"Predicted Disease: {prediction['predicted_disease']}\")\n",
        "print(f\"Predicted Risk Level: {prediction['predicted_risk_level']}\")\n",
        "recommendations = prediction.get('recommendations', {})\n",
        "\n",
        "if 'message' in recommendations:\n",
        "    print(f\"Message: {recommendations['message']}\")\n",
        "\n",
        "if 'error' in recommendations:\n",
        "    print(f\"Error: {recommendations['error']}\")\n",
        "\n",
        "medications = recommendations.get('medications', [])\n",
        "if medications:\n",
        "    print(f\"Recommended Medications: {medications}\")\n",
        "\n",
        "tests = recommendations.get('tests', [])\n",
        "if tests:\n",
        "    print(f\"Recommended Tests: {tests}\")\n"
      ],
      "metadata": {
        "colab": {
          "base_uri": "https://localhost:8080/"
        },
        "id": "FlkxYWot7Yiv",
        "outputId": "a84ca545-e218-48fc-a575-89ea76008a6e"
      },
      "execution_count": null,
      "outputs": [
        {
          "output_type": "stream",
          "name": "stdout",
          "text": [
            "Symptoms: ['itching', 'skin_rash', 'nodal_skin_eruptions']\n",
            "Predicted Disease: Fungal infection\n",
            "Predicted Risk Level: 0\n",
            "Message: Negligible severity. Only medication required.\n",
            "Recommended Medications: ['Antifungal Cream', 'Fluconazole', 'Terbinafine', 'Clotrimazole', 'Ketoconazole']\n"
          ]
        }
      ]
    }
  ],
  "metadata": {
    "colab": {
      "provenance": [],
      "include_colab_link": true
    },
    "kernelspec": {
      "display_name": "Python 3",
      "name": "python3"
    },
    "language_info": {
      "name": "python"
    }
  },
  "nbformat": 4,
  "nbformat_minor": 0
}