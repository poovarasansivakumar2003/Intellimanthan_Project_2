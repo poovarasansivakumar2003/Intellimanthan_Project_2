{
  "nbformat": 4,
  "nbformat_minor": 0,
  "metadata": {
    "colab": {
      "provenance": [],
      "include_colab_link": true
    },
    "kernelspec": {
      "name": "python3",
      "display_name": "Python 3"
    },
    "language_info": {
      "name": "python"
    }
  },
  "cells": [
    {
      "cell_type": "markdown",
      "metadata": {
        "id": "view-in-github",
        "colab_type": "text"
      },
      "source": [
        "<a href=\"https://colab.research.google.com/github/poovarasansivakumar2003/Intellimanthan_Project_2/blob/main/Disease_and_Pneumonia_Prediction.ipynb\" target=\"_parent\"><img src=\"https://colab.research.google.com/assets/colab-badge.svg\" alt=\"Open In Colab\"/></a>"
      ]
    },
    {
      "cell_type": "code",
      "source": [
        "!pip install streamlit\n",
        "!pip install pyngrok\n",
        "from pyngrok import ngrok\n",
        "import os\n",
        "import threading\n",
        "import time"
      ],
      "metadata": {
        "colab": {
          "base_uri": "https://localhost:8080/"
        },
        "id": "ic6FV3SoNQM2",
        "outputId": "962d682c-59ee-49d3-9ee6-674bee17ca6e"
      },
      "execution_count": null,
      "outputs": [
        {
          "output_type": "stream",
          "name": "stdout",
          "text": [
            "Requirement already satisfied: streamlit in /usr/local/lib/python3.11/dist-packages (1.44.1)\n",
            "Requirement already satisfied: altair<6,>=4.0 in /usr/local/lib/python3.11/dist-packages (from streamlit) (5.5.0)\n",
            "Requirement already satisfied: blinker<2,>=1.0.0 in /usr/local/lib/python3.11/dist-packages (from streamlit) (1.9.0)\n",
            "Requirement already satisfied: cachetools<6,>=4.0 in /usr/local/lib/python3.11/dist-packages (from streamlit) (5.5.2)\n",
            "Requirement already satisfied: click<9,>=7.0 in /usr/local/lib/python3.11/dist-packages (from streamlit) (8.1.8)\n",
            "Requirement already satisfied: numpy<3,>=1.23 in /usr/local/lib/python3.11/dist-packages (from streamlit) (2.0.2)\n",
            "Requirement already satisfied: packaging<25,>=20 in /usr/local/lib/python3.11/dist-packages (from streamlit) (24.2)\n",
            "Requirement already satisfied: pandas<3,>=1.4.0 in /usr/local/lib/python3.11/dist-packages (from streamlit) (2.2.2)\n",
            "Requirement already satisfied: pillow<12,>=7.1.0 in /usr/local/lib/python3.11/dist-packages (from streamlit) (11.2.1)\n",
            "Requirement already satisfied: protobuf<6,>=3.20 in /usr/local/lib/python3.11/dist-packages (from streamlit) (5.29.4)\n",
            "Requirement already satisfied: pyarrow>=7.0 in /usr/local/lib/python3.11/dist-packages (from streamlit) (18.1.0)\n",
            "Requirement already satisfied: requests<3,>=2.27 in /usr/local/lib/python3.11/dist-packages (from streamlit) (2.32.3)\n",
            "Requirement already satisfied: tenacity<10,>=8.1.0 in /usr/local/lib/python3.11/dist-packages (from streamlit) (9.1.2)\n",
            "Requirement already satisfied: toml<2,>=0.10.1 in /usr/local/lib/python3.11/dist-packages (from streamlit) (0.10.2)\n",
            "Requirement already satisfied: typing-extensions<5,>=4.4.0 in /usr/local/lib/python3.11/dist-packages (from streamlit) (4.13.2)\n",
            "Requirement already satisfied: watchdog<7,>=2.1.5 in /usr/local/lib/python3.11/dist-packages (from streamlit) (6.0.0)\n",
            "Requirement already satisfied: gitpython!=3.1.19,<4,>=3.0.7 in /usr/local/lib/python3.11/dist-packages (from streamlit) (3.1.44)\n",
            "Requirement already satisfied: pydeck<1,>=0.8.0b4 in /usr/local/lib/python3.11/dist-packages (from streamlit) (0.9.1)\n",
            "Requirement already satisfied: tornado<7,>=6.0.3 in /usr/local/lib/python3.11/dist-packages (from streamlit) (6.4.2)\n",
            "Requirement already satisfied: jinja2 in /usr/local/lib/python3.11/dist-packages (from altair<6,>=4.0->streamlit) (3.1.6)\n",
            "Requirement already satisfied: jsonschema>=3.0 in /usr/local/lib/python3.11/dist-packages (from altair<6,>=4.0->streamlit) (4.23.0)\n",
            "Requirement already satisfied: narwhals>=1.14.2 in /usr/local/lib/python3.11/dist-packages (from altair<6,>=4.0->streamlit) (1.36.0)\n",
            "Requirement already satisfied: gitdb<5,>=4.0.1 in /usr/local/lib/python3.11/dist-packages (from gitpython!=3.1.19,<4,>=3.0.7->streamlit) (4.0.12)\n",
            "Requirement already satisfied: python-dateutil>=2.8.2 in /usr/local/lib/python3.11/dist-packages (from pandas<3,>=1.4.0->streamlit) (2.9.0.post0)\n",
            "Requirement already satisfied: pytz>=2020.1 in /usr/local/lib/python3.11/dist-packages (from pandas<3,>=1.4.0->streamlit) (2025.2)\n",
            "Requirement already satisfied: tzdata>=2022.7 in /usr/local/lib/python3.11/dist-packages (from pandas<3,>=1.4.0->streamlit) (2025.2)\n",
            "Requirement already satisfied: charset-normalizer<4,>=2 in /usr/local/lib/python3.11/dist-packages (from requests<3,>=2.27->streamlit) (3.4.1)\n",
            "Requirement already satisfied: idna<4,>=2.5 in /usr/local/lib/python3.11/dist-packages (from requests<3,>=2.27->streamlit) (3.10)\n",
            "Requirement already satisfied: urllib3<3,>=1.21.1 in /usr/local/lib/python3.11/dist-packages (from requests<3,>=2.27->streamlit) (2.4.0)\n",
            "Requirement already satisfied: certifi>=2017.4.17 in /usr/local/lib/python3.11/dist-packages (from requests<3,>=2.27->streamlit) (2025.1.31)\n",
            "Requirement already satisfied: smmap<6,>=3.0.1 in /usr/local/lib/python3.11/dist-packages (from gitdb<5,>=4.0.1->gitpython!=3.1.19,<4,>=3.0.7->streamlit) (5.0.2)\n",
            "Requirement already satisfied: MarkupSafe>=2.0 in /usr/local/lib/python3.11/dist-packages (from jinja2->altair<6,>=4.0->streamlit) (3.0.2)\n",
            "Requirement already satisfied: attrs>=22.2.0 in /usr/local/lib/python3.11/dist-packages (from jsonschema>=3.0->altair<6,>=4.0->streamlit) (25.3.0)\n",
            "Requirement already satisfied: jsonschema-specifications>=2023.03.6 in /usr/local/lib/python3.11/dist-packages (from jsonschema>=3.0->altair<6,>=4.0->streamlit) (2025.4.1)\n",
            "Requirement already satisfied: referencing>=0.28.4 in /usr/local/lib/python3.11/dist-packages (from jsonschema>=3.0->altair<6,>=4.0->streamlit) (0.36.2)\n",
            "Requirement already satisfied: rpds-py>=0.7.1 in /usr/local/lib/python3.11/dist-packages (from jsonschema>=3.0->altair<6,>=4.0->streamlit) (0.24.0)\n",
            "Requirement already satisfied: six>=1.5 in /usr/local/lib/python3.11/dist-packages (from python-dateutil>=2.8.2->pandas<3,>=1.4.0->streamlit) (1.17.0)\n",
            "Requirement already satisfied: pyngrok in /usr/local/lib/python3.11/dist-packages (7.2.5)\n",
            "Requirement already satisfied: PyYAML>=5.1 in /usr/local/lib/python3.11/dist-packages (from pyngrok) (6.0.2)\n"
          ]
        }
      ]
    },
    {
      "cell_type": "code",
      "source": [
        "with open(\"app.py\", \"w\") as f:\n",
        "    f.write(\"\"\"\n",
        "import streamlit as st\n",
        "import torch\n",
        "import joblib\n",
        "import pandas as pd\n",
        "from PIL import Image\n",
        "from torchvision import transforms, models\n",
        "import torch.nn as nn\n",
        "\n",
        "# Load CNN model\n",
        "device = torch.device('cuda' if torch.cuda.is_available() else 'cpu')\n",
        "cnn_model = models.resnet18(pretrained=False)\n",
        "cnn_model.fc = nn.Linear(cnn_model.fc.in_features, 2)\n",
        "cnn_model.load_state_dict(torch.load(\"model.pth\", map_location=device))\n",
        "cnn_model = cnn_model.to(device)\n",
        "cnn_model.eval()\n",
        "\n",
        "# X-ray transform\n",
        "transform = transforms.Compose([\n",
        "    transforms.Resize((224, 224)),\n",
        "    transforms.ToTensor(),\n",
        "])\n",
        "xray_classes = ['NORMAL', 'PNEUMONIA']\n",
        "\n",
        "def predict_xray(image):\n",
        "    image = transform(image).unsqueeze(0).to(device)\n",
        "    with torch.no_grad():\n",
        "        output = cnn_model(image)\n",
        "        _, pred = torch.max(output, 1)\n",
        "    return xray_classes[pred.item()]\n",
        "\n",
        "# Load symptom-based models and data\n",
        "disease_models = joblib.load('disease_models.pkl')\n",
        "risk_models = joblib.load('risk_models.pkl')\n",
        "feature_selector_disease = joblib.load('disease_feature_selector.pkl')\n",
        "feature_selector_risk = joblib.load('risk_feature_selector.pkl')\n",
        "\n",
        "med_test_df = pd.read_csv('medications and test recommended.csv')\n",
        "X_template = pd.read_csv('dataset.csv').drop(['prognosis', 'risk_level'], axis=1)\n",
        "\n",
        "def predict_ensemble(models, feature_selector, X_input):\n",
        "    X_selected = feature_selector.transform(X_input)\n",
        "    predictions = {name: model.predict(X_selected) for name, model in models.items()}\n",
        "    df_preds = pd.DataFrame(predictions)\n",
        "    final_pred = df_preds.mode(axis=1)[0]\n",
        "    return final_pred\n",
        "\n",
        "def get_recommendations(disease, risk_level):\n",
        "    disease = disease.strip().lower()\n",
        "    med_test_df['prognosis'] = med_test_df['prognosis'].str.strip().str.lower()\n",
        "    match = med_test_df[med_test_df['prognosis'] == disease]\n",
        "    if match.empty:\n",
        "        return {\"error\": f\"No data found for disease '{disease}'\"}\n",
        "    info = match.iloc[0]\n",
        "    meds = eval(info['Medication']) if isinstance(info['Medication'], str) else info['Medication']\n",
        "    tests = eval(info['Recommended Tests']) if isinstance(info['Recommended Tests'], str) else info['Recommended Tests']\n",
        "\n",
        "    if risk_level == 0:\n",
        "        msg = \"Negligible severity. Only medication required.\"\n",
        "        return {\"medications\": meds, \"tests\": [], \"message\": msg}\n",
        "    elif risk_level == 1:\n",
        "        msg = \"Medium severity. Medication and tests recommended.\"\n",
        "        return {\"medications\": meds, \"tests\": tests, \"message\": msg}\n",
        "    elif risk_level == 2:\n",
        "        msg = \"HIGH SEVERITY! No meds. Tests recommended. CONSULT A DOCTOR.\"\n",
        "        return {\"medications\": [], \"tests\": tests, \"message\": msg}\n",
        "\n",
        "def predict_from_symptoms(symptoms):\n",
        "    input_df = pd.DataFrame(0, index=[0], columns=X_template.columns)\n",
        "    for symptom in symptoms:\n",
        "        if symptom in input_df.columns:\n",
        "            input_df.at[0, symptom] = 1\n",
        "    predicted_disease = predict_ensemble(disease_models, feature_selector_disease, input_df)\n",
        "    predicted_risk = predict_ensemble(risk_models, feature_selector_risk, input_df)\n",
        "    recs = get_recommendations(predicted_disease.iloc[0], int(predicted_risk.iloc[0]))\n",
        "    return {\n",
        "        \"predicted_disease\": predicted_disease.iloc[0],\n",
        "        \"predicted_risk_level\": int(predicted_risk.iloc[0]),\n",
        "        \"recommendations\": recs\n",
        "    }\n",
        "\n",
        "# --- Streamlit UI ---\n",
        "st.set_page_config(page_title=\"AI Healthcare Assistant\", layout=\"centered\")\n",
        "st.title(\"AI Healthcare Assistant\")\n",
        "\n",
        "option = st.radio(\"Choose Diagnostic Method:\", [\"Chest X-ray\", \"Symptom Checker\"])\n",
        "\n",
        "if option == \"Chest X-ray\":\n",
        "    uploaded_file = st.file_uploader(\"Upload Chest X-ray Image\", type=[\"jpg\", \"jpeg\", \"png\"])\n",
        "    if uploaded_file:\n",
        "        img = Image.open(uploaded_file).convert(\"RGB\")\n",
        "        st.image(img, caption=\"Uploaded X-ray\", use_column_width=True)\n",
        "        if st.button(\"Predict Pneumonia\"):\n",
        "            pred = predict_xray(img)\n",
        "            st.success(f\"Prediction: **{pred}**\")\n",
        "\n",
        "elif option == \"Symptom Checker\":\n",
        "    all_symptoms = list(X_template.columns)\n",
        "    selected_symptoms = st.multiselect(\"Select Symptoms\", options=all_symptoms)\n",
        "    if st.button(\"Predict Disease\"):\n",
        "        if not selected_symptoms:\n",
        "            st.warning(\"Please select at least one symptom.\")\n",
        "        else:\n",
        "            result = predict_from_symptoms(selected_symptoms)\n",
        "            st.markdown(f\"**Predicted Disease:** {result['predicted_disease']}\")\n",
        "            st.markdown(f\"**Risk Level:** {result['predicted_risk_level']}\")\n",
        "            st.info(result['recommendations']['message'])\n",
        "            if result['recommendations']['medications']:\n",
        "                st.markdown(\"**Recommended Medications:**\")\n",
        "                st.write(result['recommendations']['medications'])\n",
        "            if result['recommendations']['tests']:\n",
        "                st.markdown(\"**Recommended Tests:**\")\n",
        "                st.write(result['recommendations']['tests'])\n",
        "\"\"\")"
      ],
      "metadata": {
        "id": "ufGG4k2SNhn8"
      },
      "execution_count": null,
      "outputs": []
    },
    {
      "cell_type": "code",
      "source": [
        "!ngrok config add-authtoken 2wPHK8i2sfONyXpA7OxmVb8MDmR_2pVqPkmhYiS18FW8t5tG"
      ],
      "metadata": {
        "id": "cUtQVUs1RQ3N",
        "colab": {
          "base_uri": "https://localhost:8080/"
        },
        "outputId": "8cb0b748-32c4-4a8f-aa01-6d9d9f362a06"
      },
      "execution_count": null,
      "outputs": [
        {
          "output_type": "stream",
          "name": "stdout",
          "text": [
            "Authtoken saved to configuration file: /root/.config/ngrok/ngrok.yml\n"
          ]
        }
      ]
    },
    {
      "cell_type": "code",
      "source": [
        "ngrok.kill()\n",
        "\n",
        "def run_streamlit():\n",
        "    os.system('streamlit run app.py')\n",
        "\n",
        "thread = threading.Thread(target=run_streamlit)\n",
        "thread.start()\n",
        "\n",
        "time.sleep(5)\n",
        "\n",
        "url = ngrok.connect(8501)\n",
        "print(f\"Your Streamlit app is live at: {url}\")"
      ],
      "metadata": {
        "colab": {
          "base_uri": "https://localhost:8080/"
        },
        "id": "nvKmHn2gRMP7",
        "outputId": "c62b32a6-6e0e-444d-b9fb-d27a65172a39"
      },
      "execution_count": null,
      "outputs": [
        {
          "output_type": "stream",
          "name": "stdout",
          "text": [
            "Your Streamlit app is live at: NgrokTunnel: \"https://27c7-34-106-206-108.ngrok-free.app\" -> \"http://localhost:8501\"\n"
          ]
        }
      ]
    }
  ]
}